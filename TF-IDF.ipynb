{
 "cells": [
  {
   "cell_type": "code",
   "execution_count": 1,
   "metadata": {},
   "outputs": [],
   "source": [
    "import re\n",
    "import numpy as np\n",
    "import pickle\n",
    "\n",
    "from nltk.corpus import stopwords\n",
    "from nltk.tokenize import word_tokenize "
   ]
  },
  {
   "cell_type": "code",
   "execution_count": 2,
   "metadata": {},
   "outputs": [],
   "source": [
    "def convert_lower_case(data):\n",
    "    return np.char.lower(data)"
   ]
  },
  {
   "cell_type": "code",
   "execution_count": 3,
   "metadata": {},
   "outputs": [],
   "source": [
    "def remove_punctuation(data):\n",
    "    symbols = \"!\\\"#$%&()*+-./:;<=>?@[\\]^_`{|}~\\n\"\n",
    "    for i in range(len(symbols)):\n",
    "        data = np.char.replace(data, symbols[i], ' ')\n",
    "        data = np.char.replace(data, \"  \", \" \")\n",
    "    data = np.char.replace(data, ',', '')\n",
    "    return data"
   ]
  },
  {
   "cell_type": "code",
   "execution_count": 4,
   "metadata": {},
   "outputs": [],
   "source": [
    "def remove_stop_words(data):\n",
    "    stop_words = stopwords.words('arabic')\n",
    "    words = word_tokenize(str(data))\n",
    "    new_text = \"\"\n",
    "    for w in words:\n",
    "        if w not in stop_words and len(w) > 1:\n",
    "            new_text = new_text + \" \" + w\n",
    "    return new_text"
   ]
  },
  {
   "cell_type": "code",
   "execution_count": 5,
   "metadata": {},
   "outputs": [],
   "source": [
    "def remove_punctuation(data):\n",
    "    symbols = \"!\\\"#$%&()*+-./:;<=>?@[\\]^_`{|}~\\n\"\n",
    "    for i in range(len(symbols)):\n",
    "        data = np.char.replace(data, symbols[i], ' ')\n",
    "        data = np.char.replace(data, \"  \", \" \")\n",
    "    data = np.char.replace(data, ',', '')\n",
    "    return data"
   ]
  },
  {
   "cell_type": "code",
   "execution_count": 6,
   "metadata": {},
   "outputs": [],
   "source": [
    "def remove_apostrophe(data):\n",
    "    return np.char.replace(data, \"'\", \"\")"
   ]
  },
  {
   "cell_type": "code",
   "execution_count": 7,
   "metadata": {},
   "outputs": [],
   "source": [
    "def preprocess(data):\n",
    "    data = convert_lower_case(data)\n",
    "    data = remove_punctuation(data)\n",
    "    data = remove_apostrophe(data)\n",
    "    data = remove_punctuation(data)\n",
    "    return data"
   ]
  },
  {
   "cell_type": "code",
   "execution_count": 8,
   "metadata": {},
   "outputs": [],
   "source": [
    "def tfidf(df, n_highest=5):\n",
    "    grouped_extract = df.groupby(\"modularity_class\")['extract'].apply(' '.join).reset_index()\n",
    "    processed_text = preprocess(grouped_extract.extract.to_list())\n",
    "\n",
    "    from sklearn.feature_extraction.text import TfidfVectorizer\n",
    "    corpus = processed_text\n",
    "    vectorizer = TfidfVectorizer(stop_words= stop_words)\n",
    "    response = vectorizer.fit_transform(corpus)\n",
    "    feature_names = vectorizer.get_feature_names()\n",
    "    features = []\n",
    "    for idx, text in enumerate(corpus):\n",
    "        scores = np.argsort(response[idx,:].toarray()[0], axis=0)\n",
    "        disp = str(idx) + ': '\n",
    "        important_features = [feature_names[scores[-(i+1)]] for i in range(n_highest)]\n",
    "        features.append(important_features)\n",
    "        disp = disp + ', '.join(important_features)\n",
    "        print(disp)\n",
    "    print('-----------------------')\n",
    "\n",
    "    return features"
   ]
  },
  {
   "cell_type": "code",
   "execution_count": 11,
   "metadata": {},
   "outputs": [
    {
     "name": "stdout",
     "output_type": "stream",
     "text": [
      "0: tapetum, tapis, espèces, endémique, fossa, rétine, mojave, bougainville, sikorsky, lucidum\n",
      "1: français, né, film, potter, mort, française, paris, acteur, knock, actrice\n",
      "2: carbone, physique, plus, sciences, berlin, dresde, atari, université, comme, organiques\n",
      "3: rock, lynyrd, skynyrd, groupe, punk, zant, leon, wilkeson, rossington, band\n",
      "4: obama, parti, états, lélection, candidat, présidentielle, mccain, unis, président, barack\n",
      "5: politique, parti, français, ministre, circonscription, france, député, socialiste, né, élections\n",
      "6: blues, chanson, rock, bridget, chanteuse, plus, musique, jones, soul, albums\n",
      "7: danemark, germaniques, norvège, monpezat, peuples, prince, pape, suède, danois, laborde\n",
      "8: film, hughes, américain, acteur, films, médecines, né, the, britannique, actrice\n",
      "9: cheval, chevaux, sang, race, races, trait, pur, ceinture, sardou, plus\n",
      "10: dynastie, pharaon, légypte, règne, égypte, amenhotep, néfertiti, cléopâtre, toutânkhamon, choléra\n",
      "11: décosse, saxe, stuart, nextradiotv, empreintes, marie, reine, brême, anne, alcala\n",
      "12: footballeur, poste, évolue, club, stade, football, né, nîmes, international, saison\n",
      "13: unies, août, nations, bengale, dexia, né, banque, plus, calcutta, secrétaire\n",
      "14: aardman, france, français, française, gromit, diffusée, shaun, né, couleur, lenseigne\n",
      "15: né, français, mort, film, acteur, paris, astérix, réalisé, guerre, actrice\n",
      "16: pergélisol, française, lhippophagie, sakha, sibérie, né, journaliste, plus, français, chanson\n",
      "17: mapuches, american, chili, pie, kesha, mapuche, santiago, espagnols, araucanie, amérindiens\n",
      "18: hur, tintin, français, acteur, né, jean, française, mort, winch, largo\n",
      "19: footballeur, poste, évolue, né, club, français, entraîneur, milieu, girondins, lolympique\n",
      "20: tennis, masters, atp, chelem, circuit, tournois, joueuse, tournoi, wimbledon, simple\n",
      "21: bœuf, gras, ponts, août, matériau, plus, cirque, viole, bouglione, dun\n",
      "22: rugby, xv, club, league, stade, zélande, béarnais, joueur, super, castres\n",
      "23: électrique, particules, champ, particule, displaystyle, physique, playstation, jeu, atomes, plus\n",
      "24: formule, championnat, mercedes, lécurie, pilotes, pilote, automobile, f1, prix, monde\n",
      "25: footballeur, club, poste, évolue, football, né, international, fc, dattaquant, évoluant\n",
      "26: août, plus, septembre, comics, série, guerre, militaire, 2018, ruban, paquebot\n",
      "27: cyberpunk, actrice, criminels, esprits, français, série, né, française, née, acteur\n",
      "28: août, dyson, né, français, manning, boers, fêtes, française, mort, france\n",
      "29: wwe, wrestling, raw, championnat, entertainment, smackdown, catch, world, reigns, dean\n",
      "-----------------------\n"
     ]
    }
   ],
   "source": [
    "stop_words = set(stopwords.words('french'))\n",
    "\n",
    "path_to_pkl = '../volodymyr_graphs/data_1_1_fr.pkl'\n",
    "\n",
    "with open(path_to_pkl, 'rb') as f:\n",
    "    df1 = pickle.load(f)\n",
    "features1 = tfidf(df1, 10)\n"
   ]
  },
  {
   "cell_type": "code",
   "execution_count": null,
   "metadata": {},
   "outputs": [],
   "source": []
  }
 ],
 "metadata": {
  "kernelspec": {
   "display_name": "Python 3",
   "language": "python",
   "name": "python3"
  },
  "language_info": {
   "codemirror_mode": {
    "name": "ipython",
    "version": 3
   },
   "file_extension": ".py",
   "mimetype": "text/x-python",
   "name": "python",
   "nbconvert_exporter": "python",
   "pygments_lexer": "ipython3",
   "version": "3.7.4"
  }
 },
 "nbformat": 4,
 "nbformat_minor": 4
}
